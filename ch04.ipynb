{
 "cells": [
  {
   "cell_type": "markdown",
   "metadata": {},
   "source": [
    "<a href=\"https://docs.google.com/presentation/d/1u2gNki-dG6j063ahUpGbi3e45mcxWhDvPZaQnRAffbY/edit?usp=sharing\" target=\"_blank\">\n",
    "<img src=\"https://nimbus-screenshots.s3.amazonaws.com/s/85a61d1e5ea3b6f4e340944f58844dd2.png\" width=640>\n",
    "</a>\n",
    "# <p style=\"font-family: Arial; font-size:1.4em;color:red;\"> Chapter 4. Repetition Structures </p>"
   ]
  },
  {
   "cell_type": "markdown",
   "metadata": {},
   "source": [
    "***\n",
    "\n",
    "## <p style=\"background-color: grey; color: white \"> ◼️  While loop </p>\n",
    "# <p style=\"font-family: Arial; font-size:1.4em;color:red;\"> 1. Basic While-loop Structures</p>\n"
   ]
  },
  {
   "cell_type": "markdown",
   "metadata": {},
   "source": [
    "#### <p style=\"font-family: Arial; font-size:1.4em; background-color: yellow; color:black;\"> Problem #1.0 </p>\n",
    "\n",
    "#### Run all the cells and figure out the basic usage of while loop structure"
   ]
  },
  {
   "cell_type": "code",
   "execution_count": null,
   "metadata": {},
   "outputs": [],
   "source": [
    "i = 0\n",
    "while (i < 10):\n",
    "\ti = i + 1\n",
    "\tprint (i, end=' ')"
   ]
  },
  {
   "cell_type": "code",
   "execution_count": null,
   "metadata": {},
   "outputs": [],
   "source": [
    "i = 0\n",
    "while ( i< 10):\n",
    "\tprint (i, end=' ')\n",
    "\ti = i + 1"
   ]
  },
  {
   "cell_type": "code",
   "execution_count": 2,
   "metadata": {},
   "outputs": [],
   "source": [
    "i = 0\n",
    "while ( i < 10):\n",
    "\tprint (i, end=' ')\n",
    "\ti = i + 2"
   ]
  },
  {
   "cell_type": "code",
   "execution_count": null,
   "metadata": {},
   "outputs": [],
   "source": [
    "i = 10\n",
    "while ( i > 0):\n",
    "\tprint (i, end=' ')\n",
    "\ti = i - 1"
   ]
  },
  {
   "cell_type": "markdown",
   "metadata": {},
   "source": [
    "#### <p style=\"font-family: Arial; font-size:1.4em; background-color: yellow; color:black;\"> Problem #1.1 </p>\n",
    "\n",
    "#### Complete the code to print the numbers from 10 to 20 with the step 2 (10, 12, ...20) \n",
    "> Use the while loop "
   ]
  },
  {
   "cell_type": "code",
   "execution_count": null,
   "metadata": {},
   "outputs": [],
   "source": [
    "begin = 10\n",
    "end = 20\n",
    "\n",
    "while # complete the code"
   ]
  },
  {
   "cell_type": "markdown",
   "metadata": {},
   "source": [
    "#### <p style=\"font-family: Arial; font-size:1.4em; background-color: yellow; color:black;\"> Problem #1.2 </p>\n",
    "\n",
    "#### Complete the code to print the numbers from the input value 'begin' to another input 'end'. \n",
    "> Use the while loop  <br>\n",
    "\n",
    "<font color='red'> Note: the input value 'begin' can be greater than 'end'. <br>\n",
    "if begin > end, print all the values from 'begin' to 'end' in decreasing order\n",
    "</font>"
   ]
  },
  {
   "cell_type": "code",
   "execution_count": null,
   "metadata": {},
   "outputs": [],
   "source": [
    "begin = int(input('Enter the starting value: '))\n",
    "end = int(input('Enter the end value: '))\n",
    "\n",
    "# Complete the code to print from begin to end\n",
    "while # complete the code\n"
   ]
  },
  {
   "cell_type": "markdown",
   "metadata": {},
   "source": [
    "#### <p style=\"font-family: Arial; font-size:1.4em; background-color: yellow; color:black;\"> Problem #1.3 </p>\n",
    "\n",
    "#### Complete the code to print the 9 multiplication numbers from the given input value 'num' \n",
    "> For example, if the input \"num\" is 3, this code will print <br>\n",
    "> 3 6 9 12 15 18 21 24 27 <br>\n",
    "> Use the while loop  <br>"
   ]
  },
  {
   "cell_type": "code",
   "execution_count": null,
   "metadata": {},
   "outputs": [],
   "source": [
    "num = int(input('Enter a number: '))\n",
    "\n",
    "while # complete the code "
   ]
  },
  {
   "cell_type": "markdown",
   "metadata": {},
   "source": [
    "#### <p style=\"font-family: Arial; font-size:1.4em; background-color: yellow; color:black;\"> Problem #1.4 </p>\n",
    "\n",
    "#### Complete the code to print all numbers \n",
    "#### from 'start' to 'end' if 'start' < 'end'\n",
    "#### from 'end' to 'start' if 'end' < 'start'\n",
    "> For example, if start = 3, end = 5, it will print 3 4 5 <br> \n",
    "> if start = 10, end = 7, it will print 7 8 9 10  <br>\n",
    "> Use the <font color='red'> while loop </font> <br>"
   ]
  },
  {
   "cell_type": "markdown",
   "metadata": {},
   "source": [
    "#### <p style=\"font-family: Arial; font-size:1.4em; background-color: yellow; color:black;\"> Problem #1.5 </p>\n",
    "\n",
    "#### Complete the code to print all numbers \n",
    "#### from 'start' to 'end' if 'start' < 'end'\n",
    "#### from 'end' to 'start' if 'end' < 'start'\n",
    "> For example, if start = 3, end = 5, it will print 3 4 5 <br> \n",
    "> if start = 10, end = 7, it will print 7 8 9 10  <br>\n",
    "> Use the <font color='red'> while loop </font> <br>"
   ]
  },
  {
   "cell_type": "code",
   "execution_count": null,
   "metadata": {},
   "outputs": [],
   "source": [
    "start = int(input('Enter a number: '))\n",
    "end = int(input('Enter a number: '))\n",
    "\n",
    "# complete the code"
   ]
  },
  {
   "cell_type": "markdown",
   "metadata": {},
   "source": [
    "#### <p style=\"font-family: Arial; font-size:1.4em; background-color: yellow; color:black;\"> Problem #1.6 </p>\n",
    "\n",
    "#### Complete the code to get the summation of 1 to the input 'num' \n",
    "> For example, if num = 5, it will print 15 because 1+2+3+4+5=15 <br> \n",
    "> if num = 10, it will print 55 because 1+2+3+4+5+6+7+8+9+10<br>\n",
    "> Use the <font color='red'> while loop </font> <br>"
   ]
  },
  {
   "cell_type": "code",
   "execution_count": null,
   "metadata": {},
   "outputs": [],
   "source": [
    "num = int(input('Enter a number: '))\n",
    "val = 1\n",
    "total = 0\n",
    "while val <= num:\n",
    "    total += val\n",
    "    val += 1\n",
    "print (f'The total from 1 to {num} is {total}')\n",
    "    "
   ]
  },
  {
   "cell_type": "markdown",
   "metadata": {},
   "source": [
    "#### <p style=\"font-family: Arial; font-size:1.4em; background-color: yellow; color:black;\"> Problem #1.7 </p>\n",
    "\n",
    "#### Complete the code to get the summation between 'start'(inclusive) and 'end'(inclusive)\n",
    "#### Assume that 'start' < 'end'  \n",
    "> For example, if 'start' = 5, 'end' = 10, it will print 45 because 5+6+7+8+9+10=15 <br> \n",
    "> if 'start' = 10, 'end'= 20,  it will print 165 because 10+11+12+13+14+15+16+17+18+19+20 = 165 <br>\n",
    "> Use the <font color='red'> while loop </font> <br>"
   ]
  },
  {
   "cell_type": "code",
   "execution_count": 4,
   "metadata": {},
   "outputs": [
    {
     "name": "stdout",
     "output_type": "stream",
     "text": [
      "The total from 10 to 20 is 165\n"
     ]
    }
   ],
   "source": [
    "start = int(input('Enter a number: '))\n",
    "end = int(input('Enter a number: '))\n",
    "\n",
    "# complete the code"
   ]
  },
  {
   "cell_type": "markdown",
   "metadata": {},
   "source": [
    "#### <p style=\"font-family: Arial; font-size:1.4em; background-color: yellow; color:black;\"> Problem #1.8 </p>\n",
    "\n",
    "#### Complete the code to print all multiplication numbers of 3 between input 'start' and 'end'(inclusive)\n",
    "#### Assume that 'start' < 'end'  \n",
    "> For example, if start = 2, end = 10, it will print 3 6 9 <br> \n",
    "> if start = 12, end = 21, it will print 12 15 18 21  <br>\n",
    "> Use the <font color='red'> while loop </font> <br>"
   ]
  },
  {
   "cell_type": "code",
   "execution_count": 11,
   "metadata": {},
   "outputs": [
    {
     "name": "stdout",
     "output_type": "stream",
     "text": [
      "12\n",
      "15\n",
      "18\n"
     ]
    }
   ],
   "source": [
    "start = int(input('Enter a number: '))\n",
    "end = int(input('Enter a number: '))\n",
    "\n",
    "i = start // 3 \n",
    "i += 1 if start % 3 else 0\n",
    "while i*3 <= end:\n",
    "    print (i*3)\n",
    "    i += 1"
   ]
  },
  {
   "cell_type": "markdown",
   "metadata": {},
   "source": [
    "#### <p style=\"font-family: Arial; font-size:1.4em; background-color: yellow; color:black;\"> Problem #1.9 </p>\n",
    "\n",
    "#### Complete the code to print all multiplication numbers of 'seed' between input 'start' and 'end'(inclusive)\n",
    "#### Assume that 'seed' is greater than 1 \n",
    "#### Assume that 'start' < 'end'. Same as 1.8 except the 'seed' \n",
    "> For example, if start = 2, end = 10, seed=3, it will print 3 6 9 <br> \n",
    "> if start = 12, end = 31, seed = 6, it will print 12 18 24  <br>\n",
    "> Use the <font color='red'> while loop </font> <br>"
   ]
  },
  {
   "cell_type": "code",
   "execution_count": 5,
   "metadata": {},
   "outputs": [],
   "source": [
    "seed = int(input('Enter the seed number for multiplication: '))\n",
    "start = int(input('Enter a number: '))\n",
    "end = int(input('Enter a number: '))\n",
    "\n",
    "# complete the code"
   ]
  },
  {
   "cell_type": "markdown",
   "metadata": {},
   "source": [
    "#### <p style=\"font-family: Arial; font-size:1.4em; background-color: yellow; color:black;\"> Problem #1.10 </p>\n",
    "\n",
    "#### Complete the code to repeat the input number until the inputted number is greater than 100 \n",
    "#### if the input number is greater than 100, stop the while loop\n",
    "#### Otherwise, print the <font color='red'> number </font>\n",
    "> For example, if the series of input is 5 10 15 20 150, <br>\n",
    "> print a input number at each iteration in the while loop, except the 150 <br>\n",
    "> 5 <br> 10 <br> 15<br> 20<br>  \n",
    "> Use the <font color='red'> while loop </font> <br>"
   ]
  },
  {
   "cell_type": "code",
   "execution_count": null,
   "metadata": {},
   "outputs": [],
   "source": [
    "total = 0\n",
    "number = int(input('Enter a number: '))\n",
    "\n",
    "while number <= 100:\n",
    "    print (number)\n",
    "    number = int(input('Enter a number: '))\n",
    "    "
   ]
  },
  {
   "cell_type": "markdown",
   "metadata": {},
   "source": [
    "#### <p style=\"font-family: Arial; font-size:1.4em; background-color: yellow; color:black;\"> Problem #1.11 </p>\n",
    "\n",
    "#### Complete the code to repeat the input of a number until the sum of all input numbers is greater than 100.\n",
    "#### if the sum of all input numbers is greater than 100, stop the while loop\n",
    "#### Otherwise, add the input number to the variable \"<font color='red'> total </font>\" \n",
    "> For example, if the series of input is 5 10 15 20 150, <br>\n",
    "> the total must be 5 + 10 + 15 + 20 + 150 = 200, and stop the while loop   <br>\n",
    "> After the while loop, print the 'total' \n",
    "> Use the <font color='red'> while loop </font> <br>"
   ]
  },
  {
   "cell_type": "code",
   "execution_count": null,
   "metadata": {},
   "outputs": [],
   "source": [
    "number = int(input('Enter a number '))\n",
    "total = 0\n",
    "while total <= 100:\n",
    "    # complete the code\n",
    "    number = int(input('Enter a number '))\n",
    "print (f'The total of input numbers are {total}')"
   ]
  },
  {
   "cell_type": "markdown",
   "metadata": {},
   "source": [
    "#### <p style=\"font-family: Arial; font-size:1.4em; background-color: yellow; color:black;\"> Problem #1.12</p>\n",
    "\n",
    "#### Complete the code to print all alphabets between input letters 'start' and 'end' \n",
    "#### 'start' and 'end' letters are inclusive \n",
    "#### Assumption. 'start' and 'end' is lower case letters. All inputs are lower case. \n",
    "> For example, if 'start' is 'a' and 'end' is 'f'  <br>\n",
    "> print 'a', 'b', 'c', 'd', 'e'  <br>\n",
    "> Use the <font color='red'> while loop </font> <br>\n",
    "\n",
    "#### Refer to the following example code to practice the ord() and chr() funtions"
   ]
  },
  {
   "cell_type": "code",
   "execution_count": 19,
   "metadata": {},
   "outputs": [
    {
     "name": "stdout",
     "output_type": "stream",
     "text": [
      "97\n",
      "98\n"
     ]
    }
   ],
   "source": [
    "start = 'a'\n",
    "print (ord(start))  # it will print 97, which is ASCII code for the letter 'a'\n",
    "\n",
    "next = ord(start) + 1\n",
    "print (next)  # it will print 97, which is ASCII code for the letter 'b'"
   ]
  },
  {
   "cell_type": "code",
   "execution_count": 25,
   "metadata": {},
   "outputs": [
    {
     "data": {
      "text/plain": [
       "('s', 'i', 'b')"
      ]
     },
     "execution_count": 25,
     "metadata": {},
     "output_type": "execute_result"
    }
   ],
   "source": [
    "chr(115), chr(105), chr(98)     # by using the ASCII code 115, we can convert it as a character"
   ]
  },
  {
   "cell_type": "code",
   "execution_count": 26,
   "metadata": {},
   "outputs": [
    {
     "name": "stdout",
     "output_type": "stream",
     "text": [
      "b\n"
     ]
    }
   ],
   "source": [
    "start = 'a'\n",
    "next = ord(start) + 1\n",
    "print (chr(next))"
   ]
  },
  {
   "cell_type": "code",
   "execution_count": null,
   "metadata": {},
   "outputs": [],
   "source": [
    "start = input('Enter a starting letter: ')\n",
    "end = input('Enter a starting letter: ')\n",
    "\n",
    "# complete your code to print all the letters between 'start' and 'end' \n",
    "\n"
   ]
  },
  {
   "cell_type": "markdown",
   "metadata": {},
   "source": [
    "***"
   ]
  },
  {
   "cell_type": "markdown",
   "metadata": {},
   "source": [
    "#### Loop until the character 'q' is entered"
   ]
  },
  {
   "cell_type": "code",
   "execution_count": 3,
   "metadata": {},
   "outputs": [
    {
     "name": "stdout",
     "output_type": "stream",
     "text": [
      "a\tb\tc\t"
     ]
    }
   ],
   "source": [
    "user_val = input('Enter a character')\n",
    "while ( user_val != 'q' ):\n",
    "\tprint ( user_val, end='\\t')\n",
    "\tuser_val = input('Enter a character')\n"
   ]
  },
  {
   "cell_type": "code",
   "execution_count": 4,
   "metadata": {},
   "outputs": [
    {
     "name": "stdout",
     "output_type": "stream",
     "text": [
      "Invalid Input. Try again\n",
      "Invalid Input. Try again\n",
      " user input is  5\n"
     ]
    }
   ],
   "source": [
    "user_num = int(input('Enter your number'))\n",
    "while ( user_num < 0 or user_num > 10):\n",
    "\tprint (\"Invalid Input. Try again\")\n",
    "\tuser_num = int(input('Enter your number'))\n",
    "print (\" user input is \", user_num)\n"
   ]
  },
  {
   "cell_type": "markdown",
   "metadata": {},
   "source": [
    "***\n",
    "## <p style=\"background-color: grey; color: white \">  ◼️ For loop </p>\n",
    "# <p style=\"font-family: Arial; font-size:1.4em;color:red;\"> 2. Basic For-loop Structures</p>"
   ]
  },
  {
   "cell_type": "markdown",
   "metadata": {},
   "source": [
    "#### <p style=\"font-family: Arial; font-size:1.4em; background-color: yellow; color:black;\"> Problem #2.1</p>\n",
    "#### Complete the following code cells and figure out the syntax of for-loop"
   ]
  },
  {
   "cell_type": "markdown",
   "metadata": {},
   "source": [
    "##### Basic Syntax of For-Loop"
   ]
  },
  {
   "cell_type": "code",
   "execution_count": null,
   "metadata": {},
   "outputs": [],
   "source": [
    "for i in range(10):\n",
    "    print (i, end = ' ')"
   ]
  },
  {
   "cell_type": "code",
   "execution_count": null,
   "metadata": {},
   "outputs": [],
   "source": [
    "for num in range(5):\n",
    "\tprint (num, end=' ')"
   ]
  },
  {
   "cell_type": "markdown",
   "metadata": {},
   "source": [
    "##### Complete this code to print 1 to 10 with for-loop"
   ]
  },
  {
   "cell_type": "code",
   "execution_count": null,
   "metadata": {},
   "outputs": [],
   "source": [
    "for val # complete the code \n",
    "    print (val, end=' ')"
   ]
  },
  {
   "cell_type": "markdown",
   "metadata": {},
   "source": [
    "#### List can be used for-loop to iterate all elements \n",
    "```\n",
    "for val in [0,1,2,3,4]:\n",
    "    print (val)\n",
    "```"
   ]
  },
  {
   "cell_type": "code",
   "execution_count": null,
   "metadata": {},
   "outputs": [],
   "source": [
    "for val in [0,1,2,3,4]:\n",
    "    print (val)"
   ]
  },
  {
   "cell_type": "code",
   "execution_count": null,
   "metadata": {},
   "outputs": [
    {
     "name": "stdout",
     "output_type": "stream",
     "text": [
      "Java Python C++ R Ruby Java Script "
     ]
    }
   ],
   "source": [
    "for str in ['Java', 'Python', 'C++', 'R', 'Ruby', 'Java Script']:\n",
    "\tprint (str, end=' ')"
   ]
  },
  {
   "cell_type": "code",
   "execution_count": 7,
   "metadata": {},
   "outputs": [
    {
     "name": "stdout",
     "output_type": "stream",
     "text": [
      "0\n",
      "1\n",
      "2\n",
      "3\n",
      "4\n"
     ]
    }
   ],
   "source": [
    "# for i in range(0, 5, 1):\n",
    "for i in range(5):\n",
    "\tprint(i)\n",
    "\t"
   ]
  },
  {
   "cell_type": "code",
   "execution_count": 8,
   "metadata": {},
   "outputs": [
    {
     "name": "stdout",
     "output_type": "stream",
     "text": [
      "10\n",
      "20\n",
      "30\n",
      "10\n",
      "20\n",
      "30\n"
     ]
    }
   ],
   "source": [
    "for val in [10, 20, 30]:\n",
    "\tprint (val)\n",
    "\n",
    "listval = [10, 20, 30]\n",
    "for val in listval:\n",
    "\tprint (val)\n",
    "\n",
    "\t"
   ]
  },
  {
   "cell_type": "code",
   "execution_count": 9,
   "metadata": {},
   "outputs": [
    {
     "name": "stdout",
     "output_type": "stream",
     "text": [
      "Summation is 150\n"
     ]
    }
   ],
   "source": [
    "sum  = 0\n",
    "for  i in range(5):\n",
    "\tuser_num = int(input('Enter your num'))\n",
    "\tsum += user_num\n",
    "print (\"Summation is\", sum)\n"
   ]
  },
  {
   "cell_type": "code",
   "execution_count": null,
   "metadata": {},
   "outputs": [],
   "source": [
    "sum = 0\n",
    "i = 0\n",
    "while (i < 5):\n",
    "\tuser_num = int(input('Enter your num'))\n",
    "\tsum += user_num\n",
    "\ti += 1\n",
    "print (\"Summation is\", sum)\n"
   ]
  },
  {
   "cell_type": "code",
   "execution_count": null,
   "metadata": {},
   "outputs": [],
   "source": [
    "i = 0\n",
    "\n",
    "while True:\n",
    "\ti += 1\n",
    "\tprint (i)\n",
    "\tif ( i > 10):\n",
    "\t\tbreak\n"
   ]
  },
  {
   "cell_type": "markdown",
   "metadata": {},
   "source": [
    "#### Using range() function with the for loop"
   ]
  },
  {
   "cell_type": "code",
   "execution_count": null,
   "metadata": {},
   "outputs": [
    {
     "name": "stdout",
     "output_type": "stream",
     "text": [
      "0 1 2 3 4 "
     ]
    }
   ],
   "source": [
    "for num in range(5):\n",
    "\tprint (num, end=' ')"
   ]
  },
  {
   "cell_type": "code",
   "execution_count": null,
   "metadata": {},
   "outputs": [
    {
     "name": "stdout",
     "output_type": "stream",
     "text": [
      "5 6 7 8 9 "
     ]
    }
   ],
   "source": [
    "for num in range(5,10):\n",
    "\tprint (num, end=' ')\n",
    "\t"
   ]
  },
  {
   "cell_type": "code",
   "execution_count": null,
   "metadata": {},
   "outputs": [
    {
     "name": "stdout",
     "output_type": "stream",
     "text": [
      "10 9 8 7 6 "
     ]
    }
   ],
   "source": [
    "for num in range(10, 5, -1):\n",
    "\tprint (num, end=' ')\n",
    "\t"
   ]
  },
  {
   "cell_type": "code",
   "execution_count": null,
   "metadata": {},
   "outputs": [
    {
     "name": "stdout",
     "output_type": "stream",
     "text": [
      "45 56 77 88 100 "
     ]
    }
   ],
   "source": [
    "mylist = [45, 56, 77, 88, 100]\n",
    "for idx in range(5):\n",
    "\tprint (mylist[idx], end=' ')"
   ]
  },
  {
   "cell_type": "code",
   "execution_count": null,
   "metadata": {},
   "outputs": [
    {
     "name": "stdout",
     "output_type": "stream",
     "text": [
      "100 88 77 56 45 "
     ]
    }
   ],
   "source": [
    "mylist = [45, 56, 77, 88, 100]\n",
    "for idx in range(4, -1, -1):\n",
    "\tprint (mylist[idx], end=' ')"
   ]
  },
  {
   "cell_type": "code",
   "execution_count": null,
   "metadata": {},
   "outputs": [
    {
     "name": "stdout",
     "output_type": "stream",
     "text": [
      "100 88 77 56 45 "
     ]
    }
   ],
   "source": [
    "mylist = [45, 56, 77, 88, 100]\n",
    "for idx in reversed(range(5)):  \n",
    "\tprint (mylist[idx], end=' ')"
   ]
  },
  {
   "cell_type": "markdown",
   "metadata": {},
   "source": [
    "### Calculating Running Total"
   ]
  },
  {
   "cell_type": "code",
   "execution_count": null,
   "metadata": {},
   "outputs": [
    {
     "name": "stdout",
     "output_type": "stream",
     "text": [
      "Total 15\n"
     ]
    }
   ],
   "source": [
    "sum = 0\n",
    "for i in range(5):\n",
    "\tnumber = int(input('Enter your number'))\n",
    "\tsum += number \n",
    "print ('Total {0}'.format(sum))"
   ]
  },
  {
   "cell_type": "code",
   "execution_count": null,
   "metadata": {},
   "outputs": [],
   "source": [
    "i = 0\n",
    "while (i < 5):\n",
    "\tnumber = int(input('Enter your number'))\n",
    "\tsum += number \n",
    "\ti += 1\n",
    "print ('Total {0}'.format(sum))"
   ]
  },
  {
   "cell_type": "markdown",
   "metadata": {},
   "source": [
    "***\n",
    "## <p style=\"background-color: grey; color: white\">  ◼️ Input Validation </p>\n"
   ]
  },
  {
   "cell_type": "markdown",
   "metadata": {},
   "source": [
    "#### A number should be between 0 and 100"
   ]
  },
  {
   "cell_type": "code",
   "execution_count": null,
   "metadata": {},
   "outputs": [
    {
     "name": "stdout",
     "output_type": "stream",
     "text": [
      "10\n"
     ]
    }
   ],
   "source": [
    "\n",
    "number = int(input('Enter your input'))\n",
    "\n",
    "while ( number < 0 or number > 100):\n",
    "\tnumber = int(input('The input should be between 0 and 100'))\n",
    "\n",
    "print (number)\n"
   ]
  },
  {
   "cell_type": "markdown",
   "metadata": {},
   "source": [
    "#### Print a character until 'q' is entered\n"
   ]
  },
  {
   "cell_type": "code",
   "execution_count": null,
   "metadata": {},
   "outputs": [
    {
     "name": "stdout",
     "output_type": "stream",
     "text": [
      "a b d d e s "
     ]
    }
   ],
   "source": [
    "user_char =  input('Enter your character')  \n",
    "\n",
    "while( user_char != 'q'):\n",
    "\tprint (user_char, end=' ')\n",
    "\tuser_char =  input('Enter your character')  \n"
   ]
  },
  {
   "cell_type": "code",
   "execution_count": null,
   "metadata": {},
   "outputs": [
    {
     "name": "stdout",
     "output_type": "stream",
     "text": [
      "a  b  d e d You entered q.  Program stopped\n"
     ]
    }
   ],
   "source": [
    "\n",
    "while True:\n",
    "\tuser_char =  input('Enter your character')  \n",
    "\tif ( user_char == 'q'):\n",
    "\t\tprint ('You entered q.  Program stopped')\n",
    "\t\tbreak;\n",
    "\telse:\t\n",
    "\t\tprint (user_char, end=' ')"
   ]
  },
  {
   "cell_type": "code",
   "execution_count": null,
   "metadata": {},
   "outputs": [
    {
     "name": "stdout",
     "output_type": "stream",
     "text": [
      "Invalid input: Value Error\n",
      "10\n"
     ]
    }
   ],
   "source": [
    "try:\n",
    "\tuser_num = int(input('Enter a number'))\n",
    "except ValueError:\n",
    "\tprint ('Invalid input: Value Error')\n",
    "\n",
    "print (user_num)"
   ]
  },
  {
   "cell_type": "code",
   "execution_count": null,
   "metadata": {},
   "outputs": [],
   "source": [
    "while True:\n",
    "\ttry:\n",
    "\t\tuser_num = int(input('Enter a number'))\n",
    "\texcept ValueError:\n",
    "\t\tprint ('Invalid input: Value Error')\n",
    "\t\tcontinue\n",
    "\telse:\n",
    "\t\tprint (user_num)\n",
    "\t\tbreak"
   ]
  },
  {
   "cell_type": "code",
   "execution_count": null,
   "metadata": {},
   "outputs": [],
   "source": [
    "while True:\n",
    "    try:\n",
    "        # Note: Python 2.x users should use raw_input, the equivalent of 3.x's input\n",
    "        age = int(input(\"Please enter your age: \"))\n",
    "    except ValueError:\n",
    "        print(\"Sorry, I didn't understand that.\")\n",
    "        #better try again... Return to the start of the loop\n",
    "        continue\n",
    "    else:\n",
    "        #age was successfully parsed!\n",
    "        #we're ready to exit the loop.\n",
    "        break\n",
    "if age >= 18: \n",
    "    print(\"You are able to vote in the United States!\")\n",
    "else:\n",
    "    print(\"You are not able to vote in the United States.\")"
   ]
  },
  {
   "cell_type": "code",
   "execution_count": 19,
   "metadata": {},
   "outputs": [
    {
     "name": "stdout",
     "output_type": "stream",
     "text": [
      "11 5 3 60 "
     ]
    }
   ],
   "source": [
    "# Exercise 4-1\n",
    "\n",
    "import random\n",
    "\n",
    "while True:\n",
    "\tnum = random.randint(0,100)\n",
    "\tprint (num, end=' ')\n",
    "\tif num % 6 == 0:\n",
    "\t\tbreak\n",
    "\n",
    "\n"
   ]
  },
  {
   "cell_type": "code",
   "execution_count": null,
   "metadata": {},
   "outputs": [],
   "source": [
    "# Exercise 4-2\n",
    "import random\n",
    "sum = 0;\n",
    "\n",
    "while (sum < 100):\n",
    "\tnum = random.randint(0,100)\n",
    "\tsum += num \n",
    "\tif ( sum < 100): \n",
    "\t\tprint (num, end=' ')\n",
    "\n",
    "print (\"The summationis \", sum-num) "
   ]
  },
  {
   "cell_type": "code",
   "execution_count": 20,
   "metadata": {},
   "outputs": [
    {
     "name": "stdout",
     "output_type": "stream",
     "text": [
      "1 2 3 4 5 6 7 8 9 10 11 "
     ]
    }
   ],
   "source": [
    "i = 0\n",
    "while True:\n",
    "\ti += 1\n",
    "\tprint (i, end=' ')\n",
    "\tif i > 10:\n",
    "\t\tbreak\n",
    "\t"
   ]
  },
  {
   "cell_type": "code",
   "execution_count": 22,
   "metadata": {},
   "outputs": [
    {
     "name": "stdout",
     "output_type": "stream",
     "text": [
      "1 2 3 4 5 6 7 8 9 10 11 "
     ]
    }
   ],
   "source": [
    "flag = 1\n",
    "i = 0\n",
    "while (flag):\n",
    "\ti += 1\n",
    "\tprint (i, end=' ')\n",
    "\tif i > 10:\n",
    "\t\tflag = 0\n",
    "\t\t\n",
    "\t\n"
   ]
  },
  {
   "cell_type": "code",
   "execution_count": 31,
   "metadata": {},
   "outputs": [
    {
     "name": "stdout",
     "output_type": "stream",
     "text": [
      "87 98 "
     ]
    }
   ],
   "source": [
    "import random\n",
    "flag = 1 \n",
    "prev_num = 100\n",
    "while (flag):\n",
    "\tcurrent_num = random.randint(0,100)\n",
    "\tprint (current_num, end = ' ')\n",
    "\tif ( current_num > prev_num):\n",
    "\t\tflag = 0;\n",
    "\tprev_num = current_num \n",
    "\n",
    "\n"
   ]
  },
  {
   "cell_type": "markdown",
   "metadata": {},
   "source": []
  },
  {
   "cell_type": "markdown",
   "metadata": {},
   "source": [
    "***\n",
    "## <p style=\"background-color:grey; color:white\">  ◼️ Nested Loop  </p>"
   ]
  },
  {
   "cell_type": "code",
   "execution_count": null,
   "metadata": {},
   "outputs": [
    {
     "name": "stdout",
     "output_type": "stream",
     "text": [
      "0 0\n",
      "0 1\n",
      "0 2\n",
      "0 3\n",
      "0 4\n",
      "1 0\n",
      "1 1\n",
      "1 2\n",
      "1 3\n",
      "1 4\n",
      "2 0\n",
      "2 1\n",
      "2 2\n",
      "2 3\n",
      "2 4\n"
     ]
    }
   ],
   "source": [
    "for i in range(3):\n",
    "\tfor j in range(5):\n",
    "\t\tprint (i,j)"
   ]
  },
  {
   "cell_type": "code",
   "execution_count": null,
   "metadata": {},
   "outputs": [
    {
     "name": "stdout",
     "output_type": "stream",
     "text": [
      "9 0\n",
      "9 1\n",
      "9 2\n",
      "8 0\n",
      "8 1\n",
      "8 2\n",
      "7 0\n",
      "7 1\n",
      "7 2\n"
     ]
    }
   ],
   "source": [
    "for i in range(9,6,-1):\n",
    "\tfor j in range(3):\n",
    "\t\tprint (i,j)"
   ]
  },
  {
   "cell_type": "code",
   "execution_count": null,
   "metadata": {},
   "outputs": [
    {
     "name": "stdout",
     "output_type": "stream",
     "text": [
      "0 0\n",
      "0 1\n",
      "0 2\n",
      "0 3\n",
      "0 4\n",
      "1 1\n",
      "1 2\n",
      "1 3\n",
      "1 4\n",
      "2 2\n",
      "2 3\n",
      "2 4\n",
      "3 3\n",
      "3 4\n",
      "4 4\n"
     ]
    }
   ],
   "source": [
    "for i in range(5):\n",
    "\tfor j in range(i, 5):\n",
    "\t\tprint (i, j)"
   ]
  },
  {
   "cell_type": "code",
   "execution_count": null,
   "metadata": {},
   "outputs": [
    {
     "name": "stdout",
     "output_type": "stream",
     "text": [
      "0 0 0 1 0 2 \n",
      "1 1 1 2 \n",
      "2 2 \n"
     ]
    }
   ],
   "source": [
    "for i in range(3):\n",
    "\tfor j in range(i,3):\n",
    "\t\tprint (i, j, end=' ')\n",
    "\tprint ( )"
   ]
  },
  {
   "cell_type": "markdown",
   "metadata": {},
   "source": [
    "***\n",
    "## <p style=\"background-color: grey; color: white\">  ◼️ Break and Continue </p>\n"
   ]
  },
  {
   "cell_type": "code",
   "execution_count": 6,
   "metadata": {},
   "outputs": [
    {
     "name": "stdout",
     "output_type": "stream",
     "text": [
      "Program Stopped: The iteration number is 4\n"
     ]
    }
   ],
   "source": [
    "\n",
    "for i in range(10):\n",
    "\tnum = int(input('Enter a number: '))\n",
    "\tif ( num == -1):\n",
    "\t\tbreak\n",
    "print (f'Program Stopped: The iteration number is {i}')"
   ]
  }
 ],
 "metadata": {
  "interpreter": {
   "hash": "a614fddea9d37e019a720cc724ab725ff28be4e0e64e91a691a8738e1909110d"
  },
  "kernelspec": {
   "display_name": "Python 3.9.7 64-bit ('base': conda)",
   "language": "python",
   "name": "python3"
  },
  "language_info": {
   "codemirror_mode": {
    "name": "ipython",
    "version": 3
   },
   "file_extension": ".py",
   "mimetype": "text/x-python",
   "name": "python",
   "nbconvert_exporter": "python",
   "pygments_lexer": "ipython3",
   "version": "3.9.17"
  },
  "orig_nbformat": 4
 },
 "nbformat": 4,
 "nbformat_minor": 2
}
